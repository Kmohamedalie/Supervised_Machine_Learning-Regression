{
  "nbformat": 4,
  "nbformat_minor": 0,
  "metadata": {
    "colab": {
      "provenance": []
    },
    "kernelspec": {
      "name": "python3",
      "display_name": "Python 3"
    },
    "language_info": {
      "name": "python"
    }
  },
  "cells": [
    {
      "cell_type": "markdown",
      "source": [
        "**Developers' Guide:** [Amazon Machine Learning](https://docs.aws.amazon.com/pdfs/machine-learning/latest/dg/machinelearning-dg.pdf#cross-validation)"
      ],
      "metadata": {
        "id": "Hc9xDcrSHB9X"
      }
    },
    {
      "cell_type": "markdown",
      "source": [
        "**Lectures:** [365datascience](https://learn.365datascience.com/courses/preview/machine-learning-in-python/)"
      ],
      "metadata": {
        "id": "JCwBeTd5FZfx"
      }
    },
    {
      "cell_type": "markdown",
      "source": [
        "# **Linear Regression Algorithm**\n",
        "[Linear Regression](https://www.ibm.com/topics/linear-regression) is used to predict the value of a variable based on the value of another variable. The variable you want to predict is called the dependent variable. The variable you are using to predict the other variable's value is called the independent variable.\n",
        "\n",
        "This form of analysis estimates the coefficients of the linear equation, involving one or more independent variables that best predict the value of the dependent variable. Linear regression fits a straight line or surface that minimizes the discrepancies between predicted and actual output values. There are simple linear regression calculators that use a “least squares” method to discover the best-fit line for a set of paired data. You then estimate the value of X (dependent variable) from Y (independent variable)."
      ],
      "metadata": {
        "id": "qwIi-XjetYqT"
      }
    },
    {
      "cell_type": "markdown",
      "source": [
        "#### **Task:**  \n",
        "\n"
      ],
      "metadata": {
        "id": "cTLGtApbqFwi"
      }
    },
    {
      "cell_type": "markdown",
      "source": [
        "### **Dataset available on:** [Kaggle ](https://www.kaggle.com/datasets/farhansadeek/sat-to-gpa)"
      ],
      "metadata": {
        "id": "bCASgL01qFzo"
      }
    },
    {
      "cell_type": "markdown",
      "source": [],
      "metadata": {
        "id": "ASCRkfOb5bIr"
      }
    },
    {
      "cell_type": "markdown",
      "source": [
        "### **Imports**"
      ],
      "metadata": {
        "id": "MeWARPxDio32"
      }
    },
    {
      "cell_type": "code",
      "source": [
        "import numpy as np # scientific computing for multidimensional array\n",
        "import pandas as pd # wrangling and enchancing numpy\n",
        "import scipy # scientific python\n",
        "import matplotlib.pyplot as plt # visualization\n",
        "import seaborn as sns # advanced statistical visuaization\n",
        "sns.set() # over write the graphics of all the matplotlib plot\n",
        "\n",
        "from sklearn.linear_model import LinearRegression # linear regression model\n",
        "%matplotlib inline"
      ],
      "metadata": {
        "id": "5_DJw3pAuD14"
      },
      "execution_count": 2,
      "outputs": []
    },
    {
      "cell_type": "markdown",
      "source": [
        "#### **Read the csv file and study the database**"
      ],
      "metadata": {
        "id": "fGy__REtkHRX"
      }
    },
    {
      "cell_type": "code",
      "source": [
        "# read the data using pandas\n",
        "satGPA_df = pd.read_csv('/content/SAT_GPA.csv')"
      ],
      "metadata": {
        "id": "Jd-tUthhiwFw"
      },
      "execution_count": 5,
      "outputs": []
    },
    {
      "cell_type": "markdown",
      "source": [
        "#### **Basic EDA**"
      ],
      "metadata": {
        "id": "cAad9VxQmS5w"
      }
    },
    {
      "cell_type": "code",
      "source": [
        "# display the first five rows using the head function\n",
        "satGPA_df.head(5)"
      ],
      "metadata": {
        "colab": {
          "base_uri": "https://localhost:8080/",
          "height": 206
        },
        "id": "sFmqAPWVlFD9",
        "outputId": "bd1c06e6-d5c6-4e10-da7a-e7f5330b66c5"
      },
      "execution_count": 6,
      "outputs": [
        {
          "output_type": "execute_result",
          "data": {
            "text/plain": [
              "    SAT   GPA\n",
              "0  1714  2.40\n",
              "1  1664  2.52\n",
              "2  1760  2.54\n",
              "3  1685  2.74\n",
              "4  1693  2.83"
            ],
            "text/html": [
              "\n",
              "\n",
              "  <div id=\"df-f9b26b50-9d30-46bd-9664-564362e8c223\">\n",
              "    <div class=\"colab-df-container\">\n",
              "      <div>\n",
              "<style scoped>\n",
              "    .dataframe tbody tr th:only-of-type {\n",
              "        vertical-align: middle;\n",
              "    }\n",
              "\n",
              "    .dataframe tbody tr th {\n",
              "        vertical-align: top;\n",
              "    }\n",
              "\n",
              "    .dataframe thead th {\n",
              "        text-align: right;\n",
              "    }\n",
              "</style>\n",
              "<table border=\"1\" class=\"dataframe\">\n",
              "  <thead>\n",
              "    <tr style=\"text-align: right;\">\n",
              "      <th></th>\n",
              "      <th>SAT</th>\n",
              "      <th>GPA</th>\n",
              "    </tr>\n",
              "  </thead>\n",
              "  <tbody>\n",
              "    <tr>\n",
              "      <th>0</th>\n",
              "      <td>1714</td>\n",
              "      <td>2.40</td>\n",
              "    </tr>\n",
              "    <tr>\n",
              "      <th>1</th>\n",
              "      <td>1664</td>\n",
              "      <td>2.52</td>\n",
              "    </tr>\n",
              "    <tr>\n",
              "      <th>2</th>\n",
              "      <td>1760</td>\n",
              "      <td>2.54</td>\n",
              "    </tr>\n",
              "    <tr>\n",
              "      <th>3</th>\n",
              "      <td>1685</td>\n",
              "      <td>2.74</td>\n",
              "    </tr>\n",
              "    <tr>\n",
              "      <th>4</th>\n",
              "      <td>1693</td>\n",
              "      <td>2.83</td>\n",
              "    </tr>\n",
              "  </tbody>\n",
              "</table>\n",
              "</div>\n",
              "      <button class=\"colab-df-convert\" onclick=\"convertToInteractive('df-f9b26b50-9d30-46bd-9664-564362e8c223')\"\n",
              "              title=\"Convert this dataframe to an interactive table.\"\n",
              "              style=\"display:none;\">\n",
              "\n",
              "  <svg xmlns=\"http://www.w3.org/2000/svg\" height=\"24px\"viewBox=\"0 0 24 24\"\n",
              "       width=\"24px\">\n",
              "    <path d=\"M0 0h24v24H0V0z\" fill=\"none\"/>\n",
              "    <path d=\"M18.56 5.44l.94 2.06.94-2.06 2.06-.94-2.06-.94-.94-2.06-.94 2.06-2.06.94zm-11 1L8.5 8.5l.94-2.06 2.06-.94-2.06-.94L8.5 2.5l-.94 2.06-2.06.94zm10 10l.94 2.06.94-2.06 2.06-.94-2.06-.94-.94-2.06-.94 2.06-2.06.94z\"/><path d=\"M17.41 7.96l-1.37-1.37c-.4-.4-.92-.59-1.43-.59-.52 0-1.04.2-1.43.59L10.3 9.45l-7.72 7.72c-.78.78-.78 2.05 0 2.83L4 21.41c.39.39.9.59 1.41.59.51 0 1.02-.2 1.41-.59l7.78-7.78 2.81-2.81c.8-.78.8-2.07 0-2.86zM5.41 20L4 18.59l7.72-7.72 1.47 1.35L5.41 20z\"/>\n",
              "  </svg>\n",
              "      </button>\n",
              "\n",
              "\n",
              "\n",
              "    <div id=\"df-3f0318fe-b56c-4845-be8b-01e39009fd6d\">\n",
              "      <button class=\"colab-df-quickchart\" onclick=\"quickchart('df-3f0318fe-b56c-4845-be8b-01e39009fd6d')\"\n",
              "              title=\"Suggest charts.\"\n",
              "              style=\"display:none;\">\n",
              "\n",
              "<svg xmlns=\"http://www.w3.org/2000/svg\" height=\"24px\"viewBox=\"0 0 24 24\"\n",
              "     width=\"24px\">\n",
              "    <g>\n",
              "        <path d=\"M19 3H5c-1.1 0-2 .9-2 2v14c0 1.1.9 2 2 2h14c1.1 0 2-.9 2-2V5c0-1.1-.9-2-2-2zM9 17H7v-7h2v7zm4 0h-2V7h2v10zm4 0h-2v-4h2v4z\"/>\n",
              "    </g>\n",
              "</svg>\n",
              "      </button>\n",
              "    </div>\n",
              "\n",
              "<style>\n",
              "  .colab-df-quickchart {\n",
              "    background-color: #E8F0FE;\n",
              "    border: none;\n",
              "    border-radius: 50%;\n",
              "    cursor: pointer;\n",
              "    display: none;\n",
              "    fill: #1967D2;\n",
              "    height: 32px;\n",
              "    padding: 0 0 0 0;\n",
              "    width: 32px;\n",
              "  }\n",
              "\n",
              "  .colab-df-quickchart:hover {\n",
              "    background-color: #E2EBFA;\n",
              "    box-shadow: 0px 1px 2px rgba(60, 64, 67, 0.3), 0px 1px 3px 1px rgba(60, 64, 67, 0.15);\n",
              "    fill: #174EA6;\n",
              "  }\n",
              "\n",
              "  [theme=dark] .colab-df-quickchart {\n",
              "    background-color: #3B4455;\n",
              "    fill: #D2E3FC;\n",
              "  }\n",
              "\n",
              "  [theme=dark] .colab-df-quickchart:hover {\n",
              "    background-color: #434B5C;\n",
              "    box-shadow: 0px 1px 3px 1px rgba(0, 0, 0, 0.15);\n",
              "    filter: drop-shadow(0px 1px 2px rgba(0, 0, 0, 0.3));\n",
              "    fill: #FFFFFF;\n",
              "  }\n",
              "</style>\n",
              "\n",
              "    <script>\n",
              "      async function quickchart(key) {\n",
              "        const containerElement = document.querySelector('#' + key);\n",
              "        const charts = await google.colab.kernel.invokeFunction(\n",
              "            'suggestCharts', [key], {});\n",
              "      }\n",
              "    </script>\n",
              "\n",
              "      <script>\n",
              "\n",
              "function displayQuickchartButton(domScope) {\n",
              "  let quickchartButtonEl =\n",
              "    domScope.querySelector('#df-3f0318fe-b56c-4845-be8b-01e39009fd6d button.colab-df-quickchart');\n",
              "  quickchartButtonEl.style.display =\n",
              "    google.colab.kernel.accessAllowed ? 'block' : 'none';\n",
              "}\n",
              "\n",
              "        displayQuickchartButton(document);\n",
              "      </script>\n",
              "      <style>\n",
              "    .colab-df-container {\n",
              "      display:flex;\n",
              "      flex-wrap:wrap;\n",
              "      gap: 12px;\n",
              "    }\n",
              "\n",
              "    .colab-df-convert {\n",
              "      background-color: #E8F0FE;\n",
              "      border: none;\n",
              "      border-radius: 50%;\n",
              "      cursor: pointer;\n",
              "      display: none;\n",
              "      fill: #1967D2;\n",
              "      height: 32px;\n",
              "      padding: 0 0 0 0;\n",
              "      width: 32px;\n",
              "    }\n",
              "\n",
              "    .colab-df-convert:hover {\n",
              "      background-color: #E2EBFA;\n",
              "      box-shadow: 0px 1px 2px rgba(60, 64, 67, 0.3), 0px 1px 3px 1px rgba(60, 64, 67, 0.15);\n",
              "      fill: #174EA6;\n",
              "    }\n",
              "\n",
              "    [theme=dark] .colab-df-convert {\n",
              "      background-color: #3B4455;\n",
              "      fill: #D2E3FC;\n",
              "    }\n",
              "\n",
              "    [theme=dark] .colab-df-convert:hover {\n",
              "      background-color: #434B5C;\n",
              "      box-shadow: 0px 1px 3px 1px rgba(0, 0, 0, 0.15);\n",
              "      filter: drop-shadow(0px 1px 2px rgba(0, 0, 0, 0.3));\n",
              "      fill: #FFFFFF;\n",
              "    }\n",
              "  </style>\n",
              "\n",
              "      <script>\n",
              "        const buttonEl =\n",
              "          document.querySelector('#df-f9b26b50-9d30-46bd-9664-564362e8c223 button.colab-df-convert');\n",
              "        buttonEl.style.display =\n",
              "          google.colab.kernel.accessAllowed ? 'block' : 'none';\n",
              "\n",
              "        async function convertToInteractive(key) {\n",
              "          const element = document.querySelector('#df-f9b26b50-9d30-46bd-9664-564362e8c223');\n",
              "          const dataTable =\n",
              "            await google.colab.kernel.invokeFunction('convertToInteractive',\n",
              "                                                     [key], {});\n",
              "          if (!dataTable) return;\n",
              "\n",
              "          const docLinkHtml = 'Like what you see? Visit the ' +\n",
              "            '<a target=\"_blank\" href=https://colab.research.google.com/notebooks/data_table.ipynb>data table notebook</a>'\n",
              "            + ' to learn more about interactive tables.';\n",
              "          element.innerHTML = '';\n",
              "          dataTable['output_type'] = 'display_data';\n",
              "          await google.colab.output.renderOutput(dataTable, element);\n",
              "          const docLink = document.createElement('div');\n",
              "          docLink.innerHTML = docLinkHtml;\n",
              "          element.appendChild(docLink);\n",
              "        }\n",
              "      </script>\n",
              "    </div>\n",
              "  </div>\n"
            ]
          },
          "metadata": {},
          "execution_count": 6
        }
      ]
    },
    {
      "cell_type": "code",
      "source": [
        "# shape of the data\n",
        "satGPA_df.shape"
      ],
      "metadata": {
        "colab": {
          "base_uri": "https://localhost:8080/"
        },
        "id": "3hISSOLLlV7e",
        "outputId": "a3dc138b-98ce-400e-f954-4b9ca08a8ca5"
      },
      "execution_count": 7,
      "outputs": [
        {
          "output_type": "execute_result",
          "data": {
            "text/plain": [
              "(84, 2)"
            ]
          },
          "metadata": {},
          "execution_count": 7
        }
      ]
    },
    {
      "cell_type": "code",
      "source": [
        "# check for missing values\n",
        "satGPA_df.isnull().sum()"
      ],
      "metadata": {
        "colab": {
          "base_uri": "https://localhost:8080/"
        },
        "id": "KyISAh0zld9w",
        "outputId": "392b8a21-a6dc-4a2e-8b41-594bd00a0a77"
      },
      "execution_count": 8,
      "outputs": [
        {
          "output_type": "execute_result",
          "data": {
            "text/plain": [
              "SAT    0\n",
              "GPA    0\n",
              "dtype: int64"
            ]
          },
          "metadata": {},
          "execution_count": 8
        }
      ]
    },
    {
      "cell_type": "code",
      "source": [
        "# check data types\n",
        "satGPA_df.dtypes"
      ],
      "metadata": {
        "colab": {
          "base_uri": "https://localhost:8080/"
        },
        "id": "TEHNQJuiW2h1",
        "outputId": "8ee02059-7343-4fdb-8d86-d5f17f1ba80c"
      },
      "execution_count": 9,
      "outputs": [
        {
          "output_type": "execute_result",
          "data": {
            "text/plain": [
              "SAT      int64\n",
              "GPA    float64\n",
              "dtype: object"
            ]
          },
          "metadata": {},
          "execution_count": 9
        }
      ]
    },
    {
      "cell_type": "code",
      "source": [
        "# describe stats with .describe() method\n",
        "satGPA_df.describe()"
      ],
      "metadata": {
        "colab": {
          "base_uri": "https://localhost:8080/",
          "height": 300
        },
        "id": "ifpsbOG2719a",
        "outputId": "58047617-f123-4d1b-d4d5-4c493dbbff3b"
      },
      "execution_count": 10,
      "outputs": [
        {
          "output_type": "execute_result",
          "data": {
            "text/plain": [
              "               SAT        GPA\n",
              "count    84.000000  84.000000\n",
              "mean   1845.273810   3.330238\n",
              "std     104.530661   0.271617\n",
              "min    1634.000000   2.400000\n",
              "25%    1772.000000   3.190000\n",
              "50%    1846.000000   3.380000\n",
              "75%    1934.000000   3.502500\n",
              "max    2050.000000   3.810000"
            ],
            "text/html": [
              "\n",
              "\n",
              "  <div id=\"df-355d9eb2-3e7b-4fca-8f86-66da080175b8\">\n",
              "    <div class=\"colab-df-container\">\n",
              "      <div>\n",
              "<style scoped>\n",
              "    .dataframe tbody tr th:only-of-type {\n",
              "        vertical-align: middle;\n",
              "    }\n",
              "\n",
              "    .dataframe tbody tr th {\n",
              "        vertical-align: top;\n",
              "    }\n",
              "\n",
              "    .dataframe thead th {\n",
              "        text-align: right;\n",
              "    }\n",
              "</style>\n",
              "<table border=\"1\" class=\"dataframe\">\n",
              "  <thead>\n",
              "    <tr style=\"text-align: right;\">\n",
              "      <th></th>\n",
              "      <th>SAT</th>\n",
              "      <th>GPA</th>\n",
              "    </tr>\n",
              "  </thead>\n",
              "  <tbody>\n",
              "    <tr>\n",
              "      <th>count</th>\n",
              "      <td>84.000000</td>\n",
              "      <td>84.000000</td>\n",
              "    </tr>\n",
              "    <tr>\n",
              "      <th>mean</th>\n",
              "      <td>1845.273810</td>\n",
              "      <td>3.330238</td>\n",
              "    </tr>\n",
              "    <tr>\n",
              "      <th>std</th>\n",
              "      <td>104.530661</td>\n",
              "      <td>0.271617</td>\n",
              "    </tr>\n",
              "    <tr>\n",
              "      <th>min</th>\n",
              "      <td>1634.000000</td>\n",
              "      <td>2.400000</td>\n",
              "    </tr>\n",
              "    <tr>\n",
              "      <th>25%</th>\n",
              "      <td>1772.000000</td>\n",
              "      <td>3.190000</td>\n",
              "    </tr>\n",
              "    <tr>\n",
              "      <th>50%</th>\n",
              "      <td>1846.000000</td>\n",
              "      <td>3.380000</td>\n",
              "    </tr>\n",
              "    <tr>\n",
              "      <th>75%</th>\n",
              "      <td>1934.000000</td>\n",
              "      <td>3.502500</td>\n",
              "    </tr>\n",
              "    <tr>\n",
              "      <th>max</th>\n",
              "      <td>2050.000000</td>\n",
              "      <td>3.810000</td>\n",
              "    </tr>\n",
              "  </tbody>\n",
              "</table>\n",
              "</div>\n",
              "      <button class=\"colab-df-convert\" onclick=\"convertToInteractive('df-355d9eb2-3e7b-4fca-8f86-66da080175b8')\"\n",
              "              title=\"Convert this dataframe to an interactive table.\"\n",
              "              style=\"display:none;\">\n",
              "\n",
              "  <svg xmlns=\"http://www.w3.org/2000/svg\" height=\"24px\"viewBox=\"0 0 24 24\"\n",
              "       width=\"24px\">\n",
              "    <path d=\"M0 0h24v24H0V0z\" fill=\"none\"/>\n",
              "    <path d=\"M18.56 5.44l.94 2.06.94-2.06 2.06-.94-2.06-.94-.94-2.06-.94 2.06-2.06.94zm-11 1L8.5 8.5l.94-2.06 2.06-.94-2.06-.94L8.5 2.5l-.94 2.06-2.06.94zm10 10l.94 2.06.94-2.06 2.06-.94-2.06-.94-.94-2.06-.94 2.06-2.06.94z\"/><path d=\"M17.41 7.96l-1.37-1.37c-.4-.4-.92-.59-1.43-.59-.52 0-1.04.2-1.43.59L10.3 9.45l-7.72 7.72c-.78.78-.78 2.05 0 2.83L4 21.41c.39.39.9.59 1.41.59.51 0 1.02-.2 1.41-.59l7.78-7.78 2.81-2.81c.8-.78.8-2.07 0-2.86zM5.41 20L4 18.59l7.72-7.72 1.47 1.35L5.41 20z\"/>\n",
              "  </svg>\n",
              "      </button>\n",
              "\n",
              "\n",
              "\n",
              "    <div id=\"df-f70e5ab9-813d-4040-bfc0-f6d3ae93319f\">\n",
              "      <button class=\"colab-df-quickchart\" onclick=\"quickchart('df-f70e5ab9-813d-4040-bfc0-f6d3ae93319f')\"\n",
              "              title=\"Suggest charts.\"\n",
              "              style=\"display:none;\">\n",
              "\n",
              "<svg xmlns=\"http://www.w3.org/2000/svg\" height=\"24px\"viewBox=\"0 0 24 24\"\n",
              "     width=\"24px\">\n",
              "    <g>\n",
              "        <path d=\"M19 3H5c-1.1 0-2 .9-2 2v14c0 1.1.9 2 2 2h14c1.1 0 2-.9 2-2V5c0-1.1-.9-2-2-2zM9 17H7v-7h2v7zm4 0h-2V7h2v10zm4 0h-2v-4h2v4z\"/>\n",
              "    </g>\n",
              "</svg>\n",
              "      </button>\n",
              "    </div>\n",
              "\n",
              "<style>\n",
              "  .colab-df-quickchart {\n",
              "    background-color: #E8F0FE;\n",
              "    border: none;\n",
              "    border-radius: 50%;\n",
              "    cursor: pointer;\n",
              "    display: none;\n",
              "    fill: #1967D2;\n",
              "    height: 32px;\n",
              "    padding: 0 0 0 0;\n",
              "    width: 32px;\n",
              "  }\n",
              "\n",
              "  .colab-df-quickchart:hover {\n",
              "    background-color: #E2EBFA;\n",
              "    box-shadow: 0px 1px 2px rgba(60, 64, 67, 0.3), 0px 1px 3px 1px rgba(60, 64, 67, 0.15);\n",
              "    fill: #174EA6;\n",
              "  }\n",
              "\n",
              "  [theme=dark] .colab-df-quickchart {\n",
              "    background-color: #3B4455;\n",
              "    fill: #D2E3FC;\n",
              "  }\n",
              "\n",
              "  [theme=dark] .colab-df-quickchart:hover {\n",
              "    background-color: #434B5C;\n",
              "    box-shadow: 0px 1px 3px 1px rgba(0, 0, 0, 0.15);\n",
              "    filter: drop-shadow(0px 1px 2px rgba(0, 0, 0, 0.3));\n",
              "    fill: #FFFFFF;\n",
              "  }\n",
              "</style>\n",
              "\n",
              "    <script>\n",
              "      async function quickchart(key) {\n",
              "        const containerElement = document.querySelector('#' + key);\n",
              "        const charts = await google.colab.kernel.invokeFunction(\n",
              "            'suggestCharts', [key], {});\n",
              "      }\n",
              "    </script>\n",
              "\n",
              "      <script>\n",
              "\n",
              "function displayQuickchartButton(domScope) {\n",
              "  let quickchartButtonEl =\n",
              "    domScope.querySelector('#df-f70e5ab9-813d-4040-bfc0-f6d3ae93319f button.colab-df-quickchart');\n",
              "  quickchartButtonEl.style.display =\n",
              "    google.colab.kernel.accessAllowed ? 'block' : 'none';\n",
              "}\n",
              "\n",
              "        displayQuickchartButton(document);\n",
              "      </script>\n",
              "      <style>\n",
              "    .colab-df-container {\n",
              "      display:flex;\n",
              "      flex-wrap:wrap;\n",
              "      gap: 12px;\n",
              "    }\n",
              "\n",
              "    .colab-df-convert {\n",
              "      background-color: #E8F0FE;\n",
              "      border: none;\n",
              "      border-radius: 50%;\n",
              "      cursor: pointer;\n",
              "      display: none;\n",
              "      fill: #1967D2;\n",
              "      height: 32px;\n",
              "      padding: 0 0 0 0;\n",
              "      width: 32px;\n",
              "    }\n",
              "\n",
              "    .colab-df-convert:hover {\n",
              "      background-color: #E2EBFA;\n",
              "      box-shadow: 0px 1px 2px rgba(60, 64, 67, 0.3), 0px 1px 3px 1px rgba(60, 64, 67, 0.15);\n",
              "      fill: #174EA6;\n",
              "    }\n",
              "\n",
              "    [theme=dark] .colab-df-convert {\n",
              "      background-color: #3B4455;\n",
              "      fill: #D2E3FC;\n",
              "    }\n",
              "\n",
              "    [theme=dark] .colab-df-convert:hover {\n",
              "      background-color: #434B5C;\n",
              "      box-shadow: 0px 1px 3px 1px rgba(0, 0, 0, 0.15);\n",
              "      filter: drop-shadow(0px 1px 2px rgba(0, 0, 0, 0.3));\n",
              "      fill: #FFFFFF;\n",
              "    }\n",
              "  </style>\n",
              "\n",
              "      <script>\n",
              "        const buttonEl =\n",
              "          document.querySelector('#df-355d9eb2-3e7b-4fca-8f86-66da080175b8 button.colab-df-convert');\n",
              "        buttonEl.style.display =\n",
              "          google.colab.kernel.accessAllowed ? 'block' : 'none';\n",
              "\n",
              "        async function convertToInteractive(key) {\n",
              "          const element = document.querySelector('#df-355d9eb2-3e7b-4fca-8f86-66da080175b8');\n",
              "          const dataTable =\n",
              "            await google.colab.kernel.invokeFunction('convertToInteractive',\n",
              "                                                     [key], {});\n",
              "          if (!dataTable) return;\n",
              "\n",
              "          const docLinkHtml = 'Like what you see? Visit the ' +\n",
              "            '<a target=\"_blank\" href=https://colab.research.google.com/notebooks/data_table.ipynb>data table notebook</a>'\n",
              "            + ' to learn more about interactive tables.';\n",
              "          element.innerHTML = '';\n",
              "          dataTable['output_type'] = 'display_data';\n",
              "          await google.colab.output.renderOutput(dataTable, element);\n",
              "          const docLink = document.createElement('div');\n",
              "          docLink.innerHTML = docLinkHtml;\n",
              "          element.appendChild(docLink);\n",
              "        }\n",
              "      </script>\n",
              "    </div>\n",
              "  </div>\n"
            ]
          },
          "metadata": {},
          "execution_count": 10
        }
      ]
    },
    {
      "cell_type": "code",
      "source": [
        "# plot the distribution\n",
        "sns.set_theme()\n",
        "sns.displot(satGPA_df['SAT'], kind=\"kde\").set(title=\"Distribution of SAT\")\n",
        "plt.axvline(x=satGPA_df['SAT'].mean(), linewidth=1, color='g');"
      ],
      "metadata": {
        "colab": {
          "base_uri": "https://localhost:8080/",
          "height": 523
        },
        "id": "Quhj4sx68I32",
        "outputId": "29f1c2ba-8b27-4ec6-e121-dd2d117f3208"
      },
      "execution_count": 11,
      "outputs": [
        {
          "output_type": "display_data",
          "data": {
            "text/plain": [
              "<Figure size 500x500 with 1 Axes>"
            ],
            "image/png": "[encoded data removed]"
          },
          "metadata": {}
        }
      ]
    },
    {
      "cell_type": "code",
      "source": [
        "# plot the distribution\n",
        "sns.displot(satGPA_df['GPA'], kind=\"kde\").set(title=\"Distribution of GPA\")\n",
        "plt.axvline(x=satGPA_df['GPA'].mean(), linewidth=1, color='g');"
      ],
      "metadata": {
        "colab": {
          "base_uri": "https://localhost:8080/",
          "height": 523
        },
        "id": "ralH854v91Ja",
        "outputId": "6ebc6e8b-9bcf-4016-e177-ea01928411ac"
      },
      "execution_count": 12,
      "outputs": [
        {
          "output_type": "display_data",
          "data": {
            "text/plain": [
              "<Figure size 500x500 with 1 Axes>"
            ],
            "image/png": "[encoded data removed]"
          },
          "metadata": {}
        }
      ]
    },
    {
      "cell_type": "markdown",
      "source": [
        "### **Regression model:**"
      ],
      "metadata": {
        "id": "KLVGQfSX_W3-"
      }
    },
    {
      "cell_type": "markdown",
      "source": [
        "#### **Define the target and the inputs**"
      ],
      "metadata": {
        "id": "ppYz6RLNtxx_"
      }
    },
    {
      "cell_type": "code",
      "source": [
        "input = satGPA_df['SAT'] # input\n",
        "target = satGPA_df['GPA'] # target"
      ],
      "metadata": {
        "id": "tj6iuHJ__b-f"
      },
      "execution_count": 23,
      "outputs": []
    },
    {
      "cell_type": "markdown",
      "source": [
        "#### **plot the regression line using seaborn kind=\"reg\" data:**"
      ],
      "metadata": {
        "id": "bVPWhZWi_6Ex"
      }
    },
    {
      "cell_type": "code",
      "source": [
        "print(\"GPA vs SAT\")\n",
        "sns.jointplot(data=satGPA_df, x='SAT', y=\"GPA\",kind='reg');"
      ],
      "metadata": {
        "colab": {
          "base_uri": "https://localhost:8080/",
          "height": 618
        },
        "id": "YvAcr6r__4TC",
        "outputId": "58c1c018-a953-4c2f-cb74-e6302cf667c2"
      },
      "execution_count": null,
      "outputs": [
        {
          "output_type": "stream",
          "name": "stdout",
          "text": [
            "GPA vs SAT\n"
          ]
        },
        {
          "output_type": "display_data",
          "data": {
            "text/plain": [
              "<Figure size 600x600 with 3 Axes>"
            ],
            "image/png": "[encoded data removed]"
          },
          "metadata": {}
        }
      ]
    },
    {
      "cell_type": "markdown",
      "source": [
        "###**Linear regression with sklearn:**"
      ],
      "metadata": {
        "id": "VUykgz9hCPXr"
      }
    },
    {
      "cell_type": "markdown",
      "source": [
        "Since sklearn deals with arrays lets us see the structure of the input and target."
      ],
      "metadata": {
        "id": "_E_X8I5eOIRQ"
      }
    },
    {
      "cell_type": "code",
      "source": [
        "print(\"input shape: \",input.shape)\n",
        "print(\"\\n target shape: \",target.shape)"
      ],
      "metadata": {
        "id": "SKej2teVCTVL",
        "colab": {
          "base_uri": "https://localhost:8080/"
        },
        "outputId": "adf645a1-04d9-4f5b-c9ba-146a5ec310c3"
      },
      "execution_count": 18,
      "outputs": [
        {
          "output_type": "stream",
          "name": "stdout",
          "text": [
            "input shape:  (84,)\n",
            "\n",
            " target shape:  (84,)\n"
          ]
        }
      ]
    },
    {
      "cell_type": "markdown",
      "source": [
        "### **Let's instantiate and fit the model:**"
      ],
      "metadata": {
        "id": "aFhDvUSIO2tV"
      }
    },
    {
      "cell_type": "code",
      "source": [
        "# the model\n",
        "reg_model = LinearRegression()"
      ],
      "metadata": {
        "id": "ypdlNARtDlA6"
      },
      "execution_count": 20,
      "outputs": []
    },
    {
      "cell_type": "markdown",
      "source": [
        "**Note:** the <code>.values.reshape(-1,1)</code> has been used because since it's a simple linear regression and a vector while sklearn is expecting a two dimensional array, if you just run the <code>reg_model.fit(input,target)</code> it will throw an error. This only happens for simple linear regression."
      ],
      "metadata": {
        "id": "mAo5N3GAQPX6"
      }
    },
    {
      "cell_type": "code",
      "source": [
        "# fit the model\n",
        "input_matrix = input.values.reshape(-1, 1)\n",
        "reg_model.fit(input_matrix , target)"
      ],
      "metadata": {
        "colab": {
          "base_uri": "https://localhost:8080/",
          "height": 74
        },
        "id": "_SwJoJG6PLQN",
        "outputId": "c8340c47-cd87-43bb-8fd2-87313f977aca"
      },
      "execution_count": 32,
      "outputs": [
        {
          "output_type": "execute_result",
          "data": {
            "text/plain": [
              "LinearRegression()"
            ],
            "text/html": [
              "<style>#sk-container-id-3 {color: black;background-color: white;}#sk-container-id-3 pre{padding: 0;}#sk-container-id-3 div.sk-toggleable {background-color: white;}#sk-container-id-3 label.sk-toggleable__label {cursor: pointer;display: block;width: 100%;margin-bottom: 0;padding: 0.3em;box-sizing: border-box;text-align: center;}#sk-container-id-3 label.sk-toggleable__label-arrow:before {content: \"▸\";float: left;margin-right: 0.25em;color: #696969;}#sk-container-id-3 label.sk-toggleable__label-arrow:hover:before {color: black;}#sk-container-id-3 div.sk-estimator:hover label.sk-toggleable__label-arrow:before {color: black;}#sk-container-id-3 div.sk-toggleable__content {max-height: 0;max-width: 0;overflow: hidden;text-align: left;background-color: #f0f8ff;}#sk-container-id-3 div.sk-toggleable__content pre {margin: 0.2em;color: black;border-radius: 0.25em;background-color: #f0f8ff;}#sk-container-id-3 input.sk-toggleable__control:checked~div.sk-toggleable__content {max-height: 200px;max-width: 100%;overflow: auto;}#sk-container-id-3 input.sk-toggleable__control:checked~label.sk-toggleable__label-arrow:before {content: \"▾\";}#sk-container-id-3 div.sk-estimator input.sk-toggleable__control:checked~label.sk-toggleable__label {background-color: #d4ebff;}#sk-container-id-3 div.sk-label input.sk-toggleable__control:checked~label.sk-toggleable__label {background-color: #d4ebff;}#sk-container-id-3 input.sk-hidden--visually {border: 0;clip: rect(1px 1px 1px 1px);clip: rect(1px, 1px, 1px, 1px);height: 1px;margin: -1px;overflow: hidden;padding: 0;position: absolute;width: 1px;}#sk-container-id-3 div.sk-estimator {font-family: monospace;background-color: #f0f8ff;border: 1px dotted black;border-radius: 0.25em;box-sizing: border-box;margin-bottom: 0.5em;}#sk-container-id-3 div.sk-estimator:hover {background-color: #d4ebff;}#sk-container-id-3 div.sk-parallel-item::after {content: \"\";width: 100%;border-bottom: 1px solid gray;flex-grow: 1;}#sk-container-id-3 div.sk-label:hover label.sk-toggleable__label {background-color: #d4ebff;}#sk-container-id-3 div.sk-serial::before {content: \"\";position: absolute;border-left: 1px solid gray;box-sizing: border-box;top: 0;bottom: 0;left: 50%;z-index: 0;}#sk-container-id-3 div.sk-serial {display: flex;flex-direction: column;align-items: center;background-color: white;padding-right: 0.2em;padding-left: 0.2em;position: relative;}#sk-container-id-3 div.sk-item {position: relative;z-index: 1;}#sk-container-id-3 div.sk-parallel {display: flex;align-items: stretch;justify-content: center;background-color: white;position: relative;}#sk-container-id-3 div.sk-item::before, #sk-container-id-3 div.sk-parallel-item::before {content: \"\";position: absolute;border-left: 1px solid gray;box-sizing: border-box;top: 0;bottom: 0;left: 50%;z-index: -1;}#sk-container-id-3 div.sk-parallel-item {display: flex;flex-direction: column;z-index: 1;position: relative;background-color: white;}#sk-container-id-3 div.sk-parallel-item:first-child::after {align-self: flex-end;width: 50%;}#sk-container-id-3 div.sk-parallel-item:last-child::after {align-self: flex-start;width: 50%;}#sk-container-id-3 div.sk-parallel-item:only-child::after {width: 0;}#sk-container-id-3 div.sk-dashed-wrapped {border: 1px dashed gray;margin: 0 0.4em 0.5em 0.4em;box-sizing: border-box;padding-bottom: 0.4em;background-color: white;}#sk-container-id-3 div.sk-label label {font-family: monospace;font-weight: bold;display: inline-block;line-height: 1.2em;}#sk-container-id-3 div.sk-label-container {text-align: center;}#sk-container-id-3 div.sk-container {/* jupyter's `normalize.less` sets `[hidden] { display: none; }` but bootstrap.min.css set `[hidden] { display: none !important; }` so we also need the `!important` here to be able to override the default hidden behavior on the sphinx rendered scikit-learn.org. See: https://github.com/scikit-learn/scikit-learn/issues/21755 */display: inline-block !important;position: relative;}#sk-container-id-3 div.sk-text-repr-fallback {display: none;}</style><div id=\"sk-container-id-3\" class=\"sk-top-container\"><div class=\"sk-text-repr-fallback\"><pre>LinearRegression()</pre><b>In a Jupyter environment, please rerun this cell to show the HTML representation or trust the notebook. <br />On GitHub, the HTML representation is unable to render, please try loading this page with nbviewer.org.</b></div><div class=\"sk-container\" hidden><div class=\"sk-item\"><div class=\"sk-estimator sk-toggleable\"><input class=\"sk-toggleable__control sk-hidden--visually\" id=\"sk-estimator-id-3\" type=\"checkbox\" checked><label for=\"sk-estimator-id-3\" class=\"sk-toggleable__label sk-toggleable__label-arrow\">LinearRegression</label><div class=\"sk-toggleable__content\"><pre>LinearRegression()</pre></div></div></div></div></div>"
            ]
          },
          "metadata": {},
          "execution_count": 32
        }
      ]
    },
    {
      "cell_type": "markdown",
      "source": [
        "#### **Parameters of sklearn LinearRegression model:**"
      ],
      "metadata": {
        "id": "nJaL_j2uTojz"
      }
    },
    {
      "cell_type": "markdown",
      "source": [
        "![image.png](data:image/png;base64,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)"
      ],
      "metadata": {
        "id": "cug_ZzWJTlS0"
      }
    },
    {
      "cell_type": "markdown",
      "source": [
        "###**R-squared:**"
      ],
      "metadata": {
        "id": "ecuVVbThU7D9"
      }
    },
    {
      "cell_type": "code",
      "source": [
        "# the .score method gives the R-squared value\n",
        "reg_model.score(input_matrix, target)"
      ],
      "metadata": {
        "colab": {
          "base_uri": "https://localhost:8080/"
        },
        "id": "38adfeiHTnDV",
        "outputId": "482ef139-c21f-40e9-e3c1-0d9f34be82fe"
      },
      "execution_count": 52,
      "outputs": [
        {
          "output_type": "execute_result",
          "data": {
            "text/plain": [
              "0.40600391479679754"
            ]
          },
          "metadata": {},
          "execution_count": 52
        }
      ]
    },
    {
      "cell_type": "markdown",
      "source": [
        "###**Coefficient:**"
      ],
      "metadata": {
        "id": "8qj2oeMAVFVg"
      }
    },
    {
      "cell_type": "code",
      "source": [
        "# the .coef_ method gives the coefficient\n",
        "reg_model.coef_"
      ],
      "metadata": {
        "colab": {
          "base_uri": "https://localhost:8080/"
        },
        "id": "Aa9y3fXuRHnI",
        "outputId": "57683ab5-5433-4a73-9f57-79c87a9b8896"
      },
      "execution_count": 34,
      "outputs": [
        {
          "output_type": "execute_result",
          "data": {
            "text/plain": [
              "array([0.00165569])"
            ]
          },
          "metadata": {},
          "execution_count": 34
        }
      ]
    },
    {
      "cell_type": "markdown",
      "source": [
        "###**Intercept:**"
      ],
      "metadata": {
        "id": "kddftd02V_nx"
      }
    },
    {
      "cell_type": "code",
      "source": [
        "# the .intercept_ method gives the intercept\n",
        "reg_model.intercept_"
      ],
      "metadata": {
        "colab": {
          "base_uri": "https://localhost:8080/"
        },
        "id": "-Pg65hbpRHu7",
        "outputId": "9a928340-f2d7-476d-cfe2-df7ef3c8b32e"
      },
      "execution_count": 35,
      "outputs": [
        {
          "output_type": "execute_result",
          "data": {
            "text/plain": [
              "0.2750402996602799"
            ]
          },
          "metadata": {},
          "execution_count": 35
        }
      ]
    },
    {
      "cell_type": "markdown",
      "source": [
        "#### **Making prediction:**"
      ],
      "metadata": {
        "id": "f6RkjXY9Wj5Q"
      }
    },
    {
      "cell_type": "code",
      "source": [
        "reg_model.predict(np.array([[1740, 1897]]).reshape(2,1))"
      ],
      "metadata": {
        "colab": {
          "base_uri": "https://localhost:8080/"
        },
        "id": "d5Vc-rlhRHze",
        "outputId": "9de840c3-8ee7-40c2-ad04-ccc9794790da"
      },
      "execution_count": 50,
      "outputs": [
        {
          "output_type": "execute_result",
          "data": {
            "text/plain": [
              "array([3.15593751, 3.41588053])"
            ]
          },
          "metadata": {},
          "execution_count": 50
        }
      ]
    },
    {
      "cell_type": "code",
      "source": [
        "# create a new dataFrame to feed to the algorithm\n",
        "new_data = pd.DataFrame(data=[1740, 1760],columns=['SAT'])\n",
        "new_data"
      ],
      "metadata": {
        "colab": {
          "base_uri": "https://localhost:8080/",
          "height": 112
        },
        "id": "4FWogpWRWdok",
        "outputId": "c0999f7e-757c-46d6-8d61-c430a741f1fd"
      },
      "execution_count": 43,
      "outputs": [
        {
          "output_type": "execute_result",
          "data": {
            "text/plain": [
              "    SAT\n",
              "0  1740\n",
              "1  1760"
            ],
            "text/html": [
              "\n",
              "\n",
              "  <div id=\"df-c38e9e60-91c7-4519-a748-eab2963a3257\">\n",
              "    <div class=\"colab-df-container\">\n",
              "      <div>\n",
              "<style scoped>\n",
              "    .dataframe tbody tr th:only-of-type {\n",
              "        vertical-align: middle;\n",
              "    }\n",
              "\n",
              "    .dataframe tbody tr th {\n",
              "        vertical-align: top;\n",
              "    }\n",
              "\n",
              "    .dataframe thead th {\n",
              "        text-align: right;\n",
              "    }\n",
              "</style>\n",
              "<table border=\"1\" class=\"dataframe\">\n",
              "  <thead>\n",
              "    <tr style=\"text-align: right;\">\n",
              "      <th></th>\n",
              "      <th>SAT</th>\n",
              "    </tr>\n",
              "  </thead>\n",
              "  <tbody>\n",
              "    <tr>\n",
              "      <th>0</th>\n",
              "      <td>1740</td>\n",
              "    </tr>\n",
              "    <tr>\n",
              "      <th>1</th>\n",
              "      <td>1760</td>\n",
              "    </tr>\n",
              "  </tbody>\n",
              "</table>\n",
              "</div>\n",
              "      <button class=\"colab-df-convert\" onclick=\"convertToInteractive('df-c38e9e60-91c7-4519-a748-eab2963a3257')\"\n",
              "              title=\"Convert this dataframe to an interactive table.\"\n",
              "              style=\"display:none;\">\n",
              "\n",
              "  <svg xmlns=\"http://www.w3.org/2000/svg\" height=\"24px\"viewBox=\"0 0 24 24\"\n",
              "       width=\"24px\">\n",
              "    <path d=\"M0 0h24v24H0V0z\" fill=\"none\"/>\n",
              "    <path d=\"M18.56 5.44l.94 2.06.94-2.06 2.06-.94-2.06-.94-.94-2.06-.94 2.06-2.06.94zm-11 1L8.5 8.5l.94-2.06 2.06-.94-2.06-.94L8.5 2.5l-.94 2.06-2.06.94zm10 10l.94 2.06.94-2.06 2.06-.94-2.06-.94-.94-2.06-.94 2.06-2.06.94z\"/><path d=\"M17.41 7.96l-1.37-1.37c-.4-.4-.92-.59-1.43-.59-.52 0-1.04.2-1.43.59L10.3 9.45l-7.72 7.72c-.78.78-.78 2.05 0 2.83L4 21.41c.39.39.9.59 1.41.59.51 0 1.02-.2 1.41-.59l7.78-7.78 2.81-2.81c.8-.78.8-2.07 0-2.86zM5.41 20L4 18.59l7.72-7.72 1.47 1.35L5.41 20z\"/>\n",
              "  </svg>\n",
              "      </button>\n",
              "\n",
              "\n",
              "\n",
              "    <div id=\"df-271d154f-5721-4df1-bb2f-15c26f0d4c74\">\n",
              "      <button class=\"colab-df-quickchart\" onclick=\"quickchart('df-271d154f-5721-4df1-bb2f-15c26f0d4c74')\"\n",
              "              title=\"Suggest charts.\"\n",
              "              style=\"display:none;\">\n",
              "\n",
              "<svg xmlns=\"http://www.w3.org/2000/svg\" height=\"24px\"viewBox=\"0 0 24 24\"\n",
              "     width=\"24px\">\n",
              "    <g>\n",
              "        <path d=\"M19 3H5c-1.1 0-2 .9-2 2v14c0 1.1.9 2 2 2h14c1.1 0 2-.9 2-2V5c0-1.1-.9-2-2-2zM9 17H7v-7h2v7zm4 0h-2V7h2v10zm4 0h-2v-4h2v4z\"/>\n",
              "    </g>\n",
              "</svg>\n",
              "      </button>\n",
              "    </div>\n",
              "\n",
              "<style>\n",
              "  .colab-df-quickchart {\n",
              "    background-color: #E8F0FE;\n",
              "    border: none;\n",
              "    border-radius: 50%;\n",
              "    cursor: pointer;\n",
              "    display: none;\n",
              "    fill: #1967D2;\n",
              "    height: 32px;\n",
              "    padding: 0 0 0 0;\n",
              "    width: 32px;\n",
              "  }\n",
              "\n",
              "  .colab-df-quickchart:hover {\n",
              "    background-color: #E2EBFA;\n",
              "    box-shadow: 0px 1px 2px rgba(60, 64, 67, 0.3), 0px 1px 3px 1px rgba(60, 64, 67, 0.15);\n",
              "    fill: #174EA6;\n",
              "  }\n",
              "\n",
              "  [theme=dark] .colab-df-quickchart {\n",
              "    background-color: #3B4455;\n",
              "    fill: #D2E3FC;\n",
              "  }\n",
              "\n",
              "  [theme=dark] .colab-df-quickchart:hover {\n",
              "    background-color: #434B5C;\n",
              "    box-shadow: 0px 1px 3px 1px rgba(0, 0, 0, 0.15);\n",
              "    filter: drop-shadow(0px 1px 2px rgba(0, 0, 0, 0.3));\n",
              "    fill: #FFFFFF;\n",
              "  }\n",
              "</style>\n",
              "\n",
              "    <script>\n",
              "      async function quickchart(key) {\n",
              "        const containerElement = document.querySelector('#' + key);\n",
              "        const charts = await google.colab.kernel.invokeFunction(\n",
              "            'suggestCharts', [key], {});\n",
              "      }\n",
              "    </script>\n",
              "\n",
              "      <script>\n",
              "\n",
              "function displayQuickchartButton(domScope) {\n",
              "  let quickchartButtonEl =\n",
              "    domScope.querySelector('#df-271d154f-5721-4df1-bb2f-15c26f0d4c74 button.colab-df-quickchart');\n",
              "  quickchartButtonEl.style.display =\n",
              "    google.colab.kernel.accessAllowed ? 'block' : 'none';\n",
              "}\n",
              "\n",
              "        displayQuickchartButton(document);\n",
              "      </script>\n",
              "      <style>\n",
              "    .colab-df-container {\n",
              "      display:flex;\n",
              "      flex-wrap:wrap;\n",
              "      gap: 12px;\n",
              "    }\n",
              "\n",
              "    .colab-df-convert {\n",
              "      background-color: #E8F0FE;\n",
              "      border: none;\n",
              "      border-radius: 50%;\n",
              "      cursor: pointer;\n",
              "      display: none;\n",
              "      fill: #1967D2;\n",
              "      height: 32px;\n",
              "      padding: 0 0 0 0;\n",
              "      width: 32px;\n",
              "    }\n",
              "\n",
              "    .colab-df-convert:hover {\n",
              "      background-color: #E2EBFA;\n",
              "      box-shadow: 0px 1px 2px rgba(60, 64, 67, 0.3), 0px 1px 3px 1px rgba(60, 64, 67, 0.15);\n",
              "      fill: #174EA6;\n",
              "    }\n",
              "\n",
              "    [theme=dark] .colab-df-convert {\n",
              "      background-color: #3B4455;\n",
              "      fill: #D2E3FC;\n",
              "    }\n",
              "\n",
              "    [theme=dark] .colab-df-convert:hover {\n",
              "      background-color: #434B5C;\n",
              "      box-shadow: 0px 1px 3px 1px rgba(0, 0, 0, 0.15);\n",
              "      filter: drop-shadow(0px 1px 2px rgba(0, 0, 0, 0.3));\n",
              "      fill: #FFFFFF;\n",
              "    }\n",
              "  </style>\n",
              "\n",
              "      <script>\n",
              "        const buttonEl =\n",
              "          document.querySelector('#df-c38e9e60-91c7-4519-a748-eab2963a3257 button.colab-df-convert');\n",
              "        buttonEl.style.display =\n",
              "          google.colab.kernel.accessAllowed ? 'block' : 'none';\n",
              "\n",
              "        async function convertToInteractive(key) {\n",
              "          const element = document.querySelector('#df-c38e9e60-91c7-4519-a748-eab2963a3257');\n",
              "          const dataTable =\n",
              "            await google.colab.kernel.invokeFunction('convertToInteractive',\n",
              "                                                     [key], {});\n",
              "          if (!dataTable) return;\n",
              "\n",
              "          const docLinkHtml = 'Like what you see? Visit the ' +\n",
              "            '<a target=\"_blank\" href=https://colab.research.google.com/notebooks/data_table.ipynb>data table notebook</a>'\n",
              "            + ' to learn more about interactive tables.';\n",
              "          element.innerHTML = '';\n",
              "          dataTable['output_type'] = 'display_data';\n",
              "          await google.colab.output.renderOutput(dataTable, element);\n",
              "          const docLink = document.createElement('div');\n",
              "          docLink.innerHTML = docLinkHtml;\n",
              "          element.appendChild(docLink);\n",
              "        }\n",
              "      </script>\n",
              "    </div>\n",
              "  </div>\n"
            ]
          },
          "metadata": {},
          "execution_count": 43
        }
      ]
    },
    {
      "cell_type": "code",
      "source": [
        "# use the model to predict a whole dataFrame\n",
        "new_data['Predicted_GPA'] =  reg_model.predict(new_data)"
      ],
      "metadata": {
        "id": "ajBzmrH9Wdx3"
      },
      "execution_count": null,
      "outputs": []
    },
    {
      "cell_type": "code",
      "source": [
        "# added column\n",
        "new_data"
      ],
      "metadata": {
        "colab": {
          "base_uri": "https://localhost:8080/",
          "height": 112
        },
        "id": "W0DqfC9UYPsZ",
        "outputId": "f5e99522-cad7-4a94-b4c2-21bdd270fb95"
      },
      "execution_count": 45,
      "outputs": [
        {
          "output_type": "execute_result",
          "data": {
            "text/plain": [
              "    SAT  Predicted_GPA\n",
              "0  1740       3.155938\n",
              "1  1760       3.189051"
            ],
            "text/html": [
              "\n",
              "\n",
              "  <div id=\"df-afe87d62-63d0-43d0-8dc1-867782aa97d5\">\n",
              "    <div class=\"colab-df-container\">\n",
              "      <div>\n",
              "<style scoped>\n",
              "    .dataframe tbody tr th:only-of-type {\n",
              "        vertical-align: middle;\n",
              "    }\n",
              "\n",
              "    .dataframe tbody tr th {\n",
              "        vertical-align: top;\n",
              "    }\n",
              "\n",
              "    .dataframe thead th {\n",
              "        text-align: right;\n",
              "    }\n",
              "</style>\n",
              "<table border=\"1\" class=\"dataframe\">\n",
              "  <thead>\n",
              "    <tr style=\"text-align: right;\">\n",
              "      <th></th>\n",
              "      <th>SAT</th>\n",
              "      <th>Predicted_GPA</th>\n",
              "    </tr>\n",
              "  </thead>\n",
              "  <tbody>\n",
              "    <tr>\n",
              "      <th>0</th>\n",
              "      <td>1740</td>\n",
              "      <td>3.155938</td>\n",
              "    </tr>\n",
              "    <tr>\n",
              "      <th>1</th>\n",
              "      <td>1760</td>\n",
              "      <td>3.189051</td>\n",
              "    </tr>\n",
              "  </tbody>\n",
              "</table>\n",
              "</div>\n",
              "      <button class=\"colab-df-convert\" onclick=\"convertToInteractive('df-afe87d62-63d0-43d0-8dc1-867782aa97d5')\"\n",
              "              title=\"Convert this dataframe to an interactive table.\"\n",
              "              style=\"display:none;\">\n",
              "\n",
              "  <svg xmlns=\"http://www.w3.org/2000/svg\" height=\"24px\"viewBox=\"0 0 24 24\"\n",
              "       width=\"24px\">\n",
              "    <path d=\"M0 0h24v24H0V0z\" fill=\"none\"/>\n",
              "    <path d=\"M18.56 5.44l.94 2.06.94-2.06 2.06-.94-2.06-.94-.94-2.06-.94 2.06-2.06.94zm-11 1L8.5 8.5l.94-2.06 2.06-.94-2.06-.94L8.5 2.5l-.94 2.06-2.06.94zm10 10l.94 2.06.94-2.06 2.06-.94-2.06-.94-.94-2.06-.94 2.06-2.06.94z\"/><path d=\"M17.41 7.96l-1.37-1.37c-.4-.4-.92-.59-1.43-.59-.52 0-1.04.2-1.43.59L10.3 9.45l-7.72 7.72c-.78.78-.78 2.05 0 2.83L4 21.41c.39.39.9.59 1.41.59.51 0 1.02-.2 1.41-.59l7.78-7.78 2.81-2.81c.8-.78.8-2.07 0-2.86zM5.41 20L4 18.59l7.72-7.72 1.47 1.35L5.41 20z\"/>\n",
              "  </svg>\n",
              "      </button>\n",
              "\n",
              "\n",
              "\n",
              "    <div id=\"df-6a7f4272-7115-4c34-8348-55c93cfcb0b6\">\n",
              "      <button class=\"colab-df-quickchart\" onclick=\"quickchart('df-6a7f4272-7115-4c34-8348-55c93cfcb0b6')\"\n",
              "              title=\"Suggest charts.\"\n",
              "              style=\"display:none;\">\n",
              "\n",
              "<svg xmlns=\"http://www.w3.org/2000/svg\" height=\"24px\"viewBox=\"0 0 24 24\"\n",
              "     width=\"24px\">\n",
              "    <g>\n",
              "        <path d=\"M19 3H5c-1.1 0-2 .9-2 2v14c0 1.1.9 2 2 2h14c1.1 0 2-.9 2-2V5c0-1.1-.9-2-2-2zM9 17H7v-7h2v7zm4 0h-2V7h2v10zm4 0h-2v-4h2v4z\"/>\n",
              "    </g>\n",
              "</svg>\n",
              "      </button>\n",
              "    </div>\n",
              "\n",
              "<style>\n",
              "  .colab-df-quickchart {\n",
              "    background-color: #E8F0FE;\n",
              "    border: none;\n",
              "    border-radius: 50%;\n",
              "    cursor: pointer;\n",
              "    display: none;\n",
              "    fill: #1967D2;\n",
              "    height: 32px;\n",
              "    padding: 0 0 0 0;\n",
              "    width: 32px;\n",
              "  }\n",
              "\n",
              "  .colab-df-quickchart:hover {\n",
              "    background-color: #E2EBFA;\n",
              "    box-shadow: 0px 1px 2px rgba(60, 64, 67, 0.3), 0px 1px 3px 1px rgba(60, 64, 67, 0.15);\n",
              "    fill: #174EA6;\n",
              "  }\n",
              "\n",
              "  [theme=dark] .colab-df-quickchart {\n",
              "    background-color: #3B4455;\n",
              "    fill: #D2E3FC;\n",
              "  }\n",
              "\n",
              "  [theme=dark] .colab-df-quickchart:hover {\n",
              "    background-color: #434B5C;\n",
              "    box-shadow: 0px 1px 3px 1px rgba(0, 0, 0, 0.15);\n",
              "    filter: drop-shadow(0px 1px 2px rgba(0, 0, 0, 0.3));\n",
              "    fill: #FFFFFF;\n",
              "  }\n",
              "</style>\n",
              "\n",
              "    <script>\n",
              "      async function quickchart(key) {\n",
              "        const containerElement = document.querySelector('#' + key);\n",
              "        const charts = await google.colab.kernel.invokeFunction(\n",
              "            'suggestCharts', [key], {});\n",
              "      }\n",
              "    </script>\n",
              "\n",
              "      <script>\n",
              "\n",
              "function displayQuickchartButton(domScope) {\n",
              "  let quickchartButtonEl =\n",
              "    domScope.querySelector('#df-6a7f4272-7115-4c34-8348-55c93cfcb0b6 button.colab-df-quickchart');\n",
              "  quickchartButtonEl.style.display =\n",
              "    google.colab.kernel.accessAllowed ? 'block' : 'none';\n",
              "}\n",
              "\n",
              "        displayQuickchartButton(document);\n",
              "      </script>\n",
              "      <style>\n",
              "    .colab-df-container {\n",
              "      display:flex;\n",
              "      flex-wrap:wrap;\n",
              "      gap: 12px;\n",
              "    }\n",
              "\n",
              "    .colab-df-convert {\n",
              "      background-color: #E8F0FE;\n",
              "      border: none;\n",
              "      border-radius: 50%;\n",
              "      cursor: pointer;\n",
              "      display: none;\n",
              "      fill: #1967D2;\n",
              "      height: 32px;\n",
              "      padding: 0 0 0 0;\n",
              "      width: 32px;\n",
              "    }\n",
              "\n",
              "    .colab-df-convert:hover {\n",
              "      background-color: #E2EBFA;\n",
              "      box-shadow: 0px 1px 2px rgba(60, 64, 67, 0.3), 0px 1px 3px 1px rgba(60, 64, 67, 0.15);\n",
              "      fill: #174EA6;\n",
              "    }\n",
              "\n",
              "    [theme=dark] .colab-df-convert {\n",
              "      background-color: #3B4455;\n",
              "      fill: #D2E3FC;\n",
              "    }\n",
              "\n",
              "    [theme=dark] .colab-df-convert:hover {\n",
              "      background-color: #434B5C;\n",
              "      box-shadow: 0px 1px 3px 1px rgba(0, 0, 0, 0.15);\n",
              "      filter: drop-shadow(0px 1px 2px rgba(0, 0, 0, 0.3));\n",
              "      fill: #FFFFFF;\n",
              "    }\n",
              "  </style>\n",
              "\n",
              "      <script>\n",
              "        const buttonEl =\n",
              "          document.querySelector('#df-afe87d62-63d0-43d0-8dc1-867782aa97d5 button.colab-df-convert');\n",
              "        buttonEl.style.display =\n",
              "          google.colab.kernel.accessAllowed ? 'block' : 'none';\n",
              "\n",
              "        async function convertToInteractive(key) {\n",
              "          const element = document.querySelector('#df-afe87d62-63d0-43d0-8dc1-867782aa97d5');\n",
              "          const dataTable =\n",
              "            await google.colab.kernel.invokeFunction('convertToInteractive',\n",
              "                                                     [key], {});\n",
              "          if (!dataTable) return;\n",
              "\n",
              "          const docLinkHtml = 'Like what you see? Visit the ' +\n",
              "            '<a target=\"_blank\" href=https://colab.research.google.com/notebooks/data_table.ipynb>data table notebook</a>'\n",
              "            + ' to learn more about interactive tables.';\n",
              "          element.innerHTML = '';\n",
              "          dataTable['output_type'] = 'display_data';\n",
              "          await google.colab.output.renderOutput(dataTable, element);\n",
              "          const docLink = document.createElement('div');\n",
              "          docLink.innerHTML = docLinkHtml;\n",
              "          element.appendChild(docLink);\n",
              "        }\n",
              "      </script>\n",
              "    </div>\n",
              "  </div>\n"
            ]
          },
          "metadata": {},
          "execution_count": 45
        }
      ]
    },
    {
      "cell_type": "markdown",
      "source": [
        "#### **Plot the regression line with the coefficients from the model:**"
      ],
      "metadata": {
        "id": "8sGk9oC7YY_m"
      }
    },
    {
      "cell_type": "code",
      "source": [
        "plt.scatter(input, target) # plot the scatter\n",
        "yhat = 0.00165*input +0.275 # add the predicted equation\n",
        "fig = plt.plot(input, yhat, lw=2, c='orange', label='regression line')\n",
        "plt.xlabel('SAT', fontsize = 20)\n",
        "plt.ylabel('GPA', fontsize = 20)\n",
        "plt.show()"
      ],
      "metadata": {
        "colab": {
          "base_uri": "https://localhost:8080/",
          "height": 468
        },
        "id": "OAaOzvcbEcbp",
        "outputId": "e43ec58c-4315-4ea0-b35d-4bb48678982c"
      },
      "execution_count": 51,
      "outputs": [
        {
          "output_type": "display_data",
          "data": {
            "text/plain": [
              "<Figure size 640x480 with 1 Axes>"
            ],
            "image/png": "[encoded data removed]"
          },
          "metadata": {}
        }
      ]
    },
    {
      "cell_type": "markdown",
      "source": [
        "### **Interpretation**\n",
        "**regression equation:** GPA = 0.275 + 0.00165*SAT"
      ],
      "metadata": {
        "id": "VpbgiQxfIe7O"
      }
    },
    {
      "cell_type": "markdown",
      "source": [
        "**R-squared:** the r-sqaured of the model is 0.406"
      ],
      "metadata": {
        "id": "H4fINrYsZmoc"
      }
    },
    {
      "cell_type": "markdown",
      "source": [
        "**Coefficients (coef):** The intercept is 0.2750 and the slope is 0.00165."
      ],
      "metadata": {
        "id": "BRYlm940JE1l"
      }
    },
    {
      "cell_type": "markdown",
      "source": [
        "### **R-squared and Adj. R-squared:**\n",
        "[\n",
        "**R-squared:** ](https://www.investopedia.com/ask/answers/012615/whats-difference-between-rsquared-and-adjusted-rsquared.asp) is a statistical measure that represents the proportion of the variance for a dependent variable that's explained by an independent variable in a regression model.\n",
        "\n",
        "\n",
        "[**Adj. R-squared:**](https://www.investopedia.com/ask/answers/012615/whats-difference-between-rsquared-and-adjusted-rsquared.asp) Adjusted R-squared is a modified version of R-squared that has been adjusted for the number of predictors in the model. The adjusted R-squared increases when the new term improves the model more than would be expected by chance. It decreases when a predictor improves the model by less than expected. Typically, the adjusted R-squared is positive, not negative. It is always lower than the R-squared.\n"
      ],
      "metadata": {
        "id": "AiIIdslFQPKX"
      }
    },
    {
      "cell_type": "markdown",
      "source": [
        "## **Now over to you use the code above to find cause and effect on a dataset you like Good Luck!!**"
      ],
      "metadata": {
        "id": "MeCxlA1uGLDP"
      }
    }
  ]
}